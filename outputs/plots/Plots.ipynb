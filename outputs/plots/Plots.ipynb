{
 "cells": [
  {
   "cell_type": "code",
   "execution_count": 1,
   "id": "d8d3570e",
   "metadata": {},
   "outputs": [],
   "source": [
    "import os\n",
    "import collections\n",
    "import seaborn\n",
    "import numpy as np\n",
    "import matplotlib.pyplot as plt\n",
    "import pandas as pd"
   ]
  },
  {
   "cell_type": "code",
   "execution_count": 2,
   "id": "fd8f5908",
   "metadata": {},
   "outputs": [],
   "source": [
    "adj_cit_bfs=(17,17.64705882,13.27446301,14,20.5,10.5,8.2,11.19469027,9.592503023,11.72120943,28.5,34.79158326,31.175,42.77309868,39.61538462,43.02521008,32.8,26.52941176,13.92601432,6.5,12,12.75,7.6,11.15044248,9.376058041,11.35704758,25,34.24073622,33.475,42.19044626,39.76923077,44.03361345,43.30493274,21.96347032,15.1146789,14.22364217,14.57142857,13.73125,12.38738739,16.21782178,47.0742342,41.625,246.1380321,288.875,300.67,334.5,337.0761183,326.5873016,15.72197309,9.019406393,7.431192661,7.086261981,12.71428571,7.4125,6.774774775,8.316831683,28.46148574,35.75,146.5907923,166.8125,186.25,269.5,196.9824134,169.4444444)\n",
    "ekey_cit_bfs = (102.6,21,19.16666667,170.1560438,206.1666667,201.3333333,169.5,274.0763158,315.9468504,307.6503856,269.5,296.1428571,315.5324675,367.3137711,311.2,15.54843373,18.5,5.423076923,8.038461538,32.8163597,34,10,8.003929273,8.537917738,7,7,4.765432099,5.12,10.40888889,5.493150685,26.01312167,8.780722892,15.5,6.076923077,6.807692308,36.05606717,8.3125,3.5,7.661100196,12.0218509,7.5,9,7.395061728,7.16,7.955555556,8.712328767,8.453012048,7.75,4.057692308,5.711538462,34.63684995,5.5,3,7.248526523,14.42159383,3,5.333333333,4.827160494,7.4,7.815555556,5.082191781,32.38383809)\n",
    "std_cit_bfs = (74.24946467,100.8888889,185.5218412,153.0714286,310.2741187,199.6,319.3,205.8666667,240.297619,207.2,267.7590361,242.1492537,308.4241403,289.4516129,212.6875,220.2,37.26959064,35.68736142,21.33333333,22.72727273,40.3836478,42.625,55.25925926,40.48741722,28.65,47.93258427,51.34042553,39.56756757,36.5,57.20661157,45.07211538,28.66666667,16.39590643,20.50554324,16.58333333,17.90909091,20.83018868,19.25,25.14814815,21.66490066,21.45,27.2247191,23.5106383,22.83783784,20,27.94214876,23.45192308,20)"
   ]
  },
  {
   "cell_type": "code",
   "execution_count": 3,
   "id": "a6622dfc",
   "metadata": {},
   "outputs": [],
   "source": [
    "#PAGERANK\n",
    "\n",
    "adj_cit_pr = pd.read_csv(\"/Users/Puneet89/scratch/margraphita/outputs/benchmarks/adj_rd_cit-Patents_pr.csv\")\n",
    "ekey_cit_pr = pd.read_csv(\"/Users/Puneet89/scratch/margraphita/outputs/benchmarks/ekey_rd_cit-Patents_pr.csv\")\n",
    "std_cit_pr = pd.read_csv(\"/Users/Puneet89/scratch/margraphita/outputs/benchmarks/std_rd_cit-Patents_pr.csv\")\n",
    "\n"
   ]
  },
  {
   "cell_type": "code",
   "execution_count": 4,
   "id": "04deeae8",
   "metadata": {},
   "outputs": [
    {
     "name": "stdout",
     "output_type": "stream",
     "text": [
      "/Users/Puneet89/scratch/margraphita/outputs/benchmarks/adj_rd_s10_e8_pr.csv\n",
      "/Users/Puneet89/scratch/margraphita/outputs/benchmarks/adj_rd_s11_e8_pr.csv\n",
      "/Users/Puneet89/scratch/margraphita/outputs/benchmarks/adj_rd_s12_e8_pr.csv\n",
      "/Users/Puneet89/scratch/margraphita/outputs/benchmarks/adj_rd_s13_e8_pr.csv\n",
      "/Users/Puneet89/scratch/margraphita/outputs/benchmarks/adj_rd_s14_e8_pr.csv\n",
      "/Users/Puneet89/scratch/margraphita/outputs/benchmarks/adj_rd_s15_e8_pr.csv\n",
      "/Users/Puneet89/scratch/margraphita/outputs/benchmarks/adj_rd_s16_e8_pr.csv\n",
      "/Users/Puneet89/scratch/margraphita/outputs/benchmarks/adj_rd_s17_e8_pr.csv\n",
      "/Users/Puneet89/scratch/margraphita/outputs/benchmarks/adj_rd_s18_e8_pr.csv\n",
      "/Users/Puneet89/scratch/margraphita/outputs/benchmarks/adj_rd_s19_e8_pr.csv\n",
      "[0.06670966666666667, 0.10476891999999999, 0.20817835999999998, 0.41862903999999995, 0.85071716, 1.7486554399999998, 3.60398752, 7.2082794, 15.207169519999999, 31.255220866666665, 196.0741889]\n"
     ]
    }
   ],
   "source": [
    "#adj_kron\n",
    "column_list = ['i0', 'i1', 'i2', 'i3', 'i4', 'i5', 'i6',\n",
    "       'i7', 'i8', 'i9']\n",
    "adj_rd_kron_times = []\n",
    "for scale in range(10,20):\n",
    "    filename = \"/Users/Puneet89/scratch/margraphita/outputs/benchmarks/adj_rd_s\"+ str(scale) + \"_e8_pr.csv\"\n",
    "    print (filename)\n",
    "    kron_time = pd.read_csv(filename)\n",
    "    times = kron_time[column_list].sum(axis=1)\n",
    "    adj_pr_time = np.mean(times.to_numpy())\n",
    "    adj_rd_kron_times.append(adj_pr_time*1e-6)\n",
    "adj_rd_kron_times.append(196.0741889)#CIT\n",
    "print(adj_rd_kron_times)"
   ]
  },
  {
   "cell_type": "code",
   "execution_count": 5,
   "id": "ef2747fe",
   "metadata": {},
   "outputs": [
    {
     "name": "stdout",
     "output_type": "stream",
     "text": [
      "/Users/Puneet89/scratch/margraphita/outputs/benchmarks/ekey_rd_s10_e8_pr.csv\n",
      "/Users/Puneet89/scratch/margraphita/outputs/benchmarks/ekey_rd_s11_e8_pr.csv\n",
      "/Users/Puneet89/scratch/margraphita/outputs/benchmarks/ekey_rd_s12_e8_pr.csv\n",
      "/Users/Puneet89/scratch/margraphita/outputs/benchmarks/ekey_rd_s13_e8_pr.csv\n",
      "/Users/Puneet89/scratch/margraphita/outputs/benchmarks/ekey_rd_s14_e8_pr.csv\n",
      "/Users/Puneet89/scratch/margraphita/outputs/benchmarks/ekey_rd_s15_e8_pr.csv\n",
      "/Users/Puneet89/scratch/margraphita/outputs/benchmarks/ekey_rd_s16_e8_pr.csv\n",
      "/Users/Puneet89/scratch/margraphita/outputs/benchmarks/ekey_rd_s17_e8_pr.csv\n",
      "/Users/Puneet89/scratch/margraphita/outputs/benchmarks/ekey_rd_s18_e8_pr.csv\n",
      "/Users/Puneet89/scratch/margraphita/outputs/benchmarks/ekey_rd_s19_e8_pr.csv\n",
      "[0.13758009523809522, 0.2443669333333333, 0.4954207333333333, 0.9938439333333333, 2.037317333333333, 4.2304678125, 8.356750266666666, 16.4588989, 34.578090399999994, 78.8429319, 330.0521647]\n"
     ]
    }
   ],
   "source": [
    "#ekey_kron\n",
    "column_list = ['i0', 'i1', 'i2', 'i3', 'i4', 'i5', 'i6',\n",
    "       'i7', 'i8', 'i9']\n",
    "ekey_rd_kron_times = []\n",
    "for scale in range(10,20):\n",
    "    filename = \"/Users/Puneet89/scratch/margraphita/outputs/benchmarks/ekey_rd_s\"+ str(scale) + \"_e8_pr.csv\"\n",
    "    print (filename)\n",
    "    kron_time = pd.read_csv(filename)\n",
    "    times = kron_time[column_list].sum(axis=1)\n",
    "    ekey_pr_time = np.mean(times.to_numpy())\n",
    "    ekey_rd_kron_times.append(ekey_pr_time*1e-6)\n",
    "ekey_rd_kron_times.append(330.0521647) #CIT\n",
    "print(ekey_rd_kron_times)"
   ]
  },
  {
   "cell_type": "code",
   "execution_count": 7,
   "id": "571857de",
   "metadata": {},
   "outputs": [
    {
     "name": "stdout",
     "output_type": "stream",
     "text": [
      "/Users/Puneet89/scratch/margraphita/outputs/benchmarks/std_rd_s10_e8_pr.csv\n",
      "/Users/Puneet89/scratch/margraphita/outputs/benchmarks/std_rd_s11_e8_pr.csv\n",
      "/Users/Puneet89/scratch/margraphita/outputs/benchmarks/std_rd_s12_e8_pr.csv\n",
      "/Users/Puneet89/scratch/margraphita/outputs/benchmarks/std_rd_s13_e8_pr.csv\n",
      "/Users/Puneet89/scratch/margraphita/outputs/benchmarks/std_rd_s14_e8_pr.csv\n",
      "/Users/Puneet89/scratch/margraphita/outputs/benchmarks/std_rd_s15_e8_pr.csv\n",
      "/Users/Puneet89/scratch/margraphita/outputs/benchmarks/std_rd_s16_e8_pr.csv\n",
      "/Users/Puneet89/scratch/margraphita/outputs/benchmarks/std_rd_s17_e8_pr.csv\n",
      "/Users/Puneet89/scratch/margraphita/outputs/benchmarks/std_rd_s18_e8_pr.csv\n",
      "/Users/Puneet89/scratch/margraphita/outputs/benchmarks/std_rd_s19_e8_pr.csv\n",
      "[0.0332096, 0.36067746666666667, 0.7398815999999999, 1.5025585333333333, 3.0012164666666665, 6.0026820999999995, 13.202162066666666, 27.758937687499998, 57.40186353333333, 166.42345066666664, 446.3954812]\n"
     ]
    }
   ],
   "source": [
    "#std_kron\n",
    "column_list = ['i0', 'i1', 'i2', 'i3', 'i4', 'i5', 'i6',\n",
    "       'i7', 'i8', 'i9']\n",
    "std_rd_kron_times = []\n",
    "for scale in range(10,20):\n",
    "    filename = \"/Users/Puneet89/scratch/margraphita/outputs/benchmarks/std_rd_s\"+ str(scale) + \"_e8_pr.csv\"\n",
    "    print (filename)\n",
    "    kron_time = pd.read_csv(filename)\n",
    "    times = kron_time[column_list].sum(axis=1)\n",
    "    std_pr_time = np.mean(times.to_numpy())\n",
    "    std_rd_kron_times.append(std_pr_time*1e-6)\n",
    "std_rd_kron_times.append(446.3954812) #CIT\n",
    "print(std_rd_kron_times)"
   ]
  },
  {
   "cell_type": "code",
   "execution_count": 8,
   "id": "6b91bce0",
   "metadata": {},
   "outputs": [
    {
     "name": "stdout",
     "output_type": "stream",
     "text": [
      "[0.06670966666666667, 0.10476891999999999, 0.20817835999999998, 0.41862903999999995, 0.85071716, 1.7486554399999998, 3.60398752, 7.2082794, 15.207169519999999, 31.255220866666665, 196.0741889]\n",
      "[0.13758009523809522, 0.2443669333333333, 0.4954207333333333, 0.9938439333333333, 2.037317333333333, 4.2304678125, 8.356750266666666, 16.4588989, 34.578090399999994, 78.8429319, 330.0521647]\n",
      "[0.0332096, 0.36067746666666667, 0.7398815999999999, 1.5025585333333333, 3.0012164666666665, 6.0026820999999995, 13.202162066666666, 27.758937687499998, 57.40186353333333, 166.42345066666664, 446.3954812]\n"
     ]
    }
   ],
   "source": [
    "print(adj_rd_kron_times)\n",
    "print(ekey_rd_kron_times)\n",
    "print(std_rd_kron_times)"
   ]
  },
  {
   "cell_type": "code",
   "execution_count": 9,
   "id": "fa8112f2",
   "metadata": {},
   "outputs": [
    {
     "name": "stdout",
     "output_type": "stream",
     "text": [
      "/Users/Puneet89/scratch/margraphita/outputs/chi_stats/s10_e8-grapchi-pr.csv\n",
      "0.11099999999999999\n",
      "/Users/Puneet89/scratch/margraphita/outputs/chi_stats/s11_e8-grapchi-pr.csv\n",
      "0.10181818181818182\n",
      "/Users/Puneet89/scratch/margraphita/outputs/chi_stats/s12_e8-grapchi-pr.csv\n",
      "0.10272727272727274\n",
      "/Users/Puneet89/scratch/margraphita/outputs/chi_stats/s13_e8-grapchi-pr.csv\n",
      "0.11400000000000002\n",
      "/Users/Puneet89/scratch/margraphita/outputs/chi_stats/s14_e8-grapchi-pr.csv\n",
      "0.12400000000000003\n",
      "/Users/Puneet89/scratch/margraphita/outputs/chi_stats/s15_e8-grapchi-pr.csv\n",
      "0.189\n",
      "/Users/Puneet89/scratch/margraphita/outputs/chi_stats/s16_e8-grapchi-pr.csv\n",
      "0.28700000000000003\n",
      "/Users/Puneet89/scratch/margraphita/outputs/chi_stats/s17_e8-grapchi-pr.csv\n",
      "0.458\n",
      "/Users/Puneet89/scratch/margraphita/outputs/chi_stats/s18_e8-grapchi-pr.csv\n",
      "0.8389999999999999\n",
      "/Users/Puneet89/scratch/margraphita/outputs/chi_stats/s19_e8-grapchi-pr.csv\n",
      "1.7149999999999999\n",
      "18.708\n",
      "[0.11099999999999999, 0.10181818181818182, 0.10272727272727274, 0.11400000000000002, 0.12400000000000003, 0.189, 0.28700000000000003, 0.458, 0.8389999999999999, 1.7149999999999999, 18.708]\n"
     ]
    }
   ],
   "source": [
    "#GraphChi\n",
    "column_list = ['real']\n",
    "graphchi_kron_times = []\n",
    "for scale in range(10,20):\n",
    "    filename = \"/Users/Puneet89/scratch/margraphita/outputs/chi_stats/s\" +str(scale) +\"_e8-grapchi-pr.csv\"\n",
    "    print (filename)\n",
    "    kron_time = pd.read_csv(filename)\n",
    "    times = kron_time['real']\n",
    "    std_pr_time = np.mean(times.to_numpy())\n",
    "    print(std_pr_time)\n",
    "    graphchi_kron_times.append(std_pr_time)\n",
    "    \n",
    "#now add cit\n",
    "filename = \"/Users/Puneet89/scratch/margraphita/outputs/chi_stats/cit-Patents-grapchi-pr.csv\"\n",
    "kron_time = pd.read_csv(filename)\n",
    "times = kron_time['real']\n",
    "std_pr_time = np.mean(times.to_numpy())\n",
    "print(std_pr_time)\n",
    "graphchi_kron_times.append(std_pr_time)\n",
    "\n",
    "print(graphchi_kron_times)"
   ]
  },
  {
   "cell_type": "code",
   "execution_count": 10,
   "id": "db109fff",
   "metadata": {},
   "outputs": [
    {
     "data": {
      "image/png": "[encoded data removed]",
      "text/plain": [
       "<Figure size 432x288 with 1 Axes>"
      ]
     },
     "metadata": {
      "needs_background": "light"
     },
     "output_type": "display_data"
    }
   ],
   "source": [
    "x = []\n",
    "for i in range(10,20):\n",
    "    x.append(\"s\"+str(i))\n",
    "x.append(\"CIT\")\n",
    "\n",
    "adj_pr_line, = plt.plot(x, adj_rd_kron_times,marker=\".\", markersize=10)\n",
    "adj_pr_line.set_label(\"AdjList\")\n",
    "\n",
    "ekey_pr_line, = plt.plot(x,ekey_rd_kron_times,marker=\"+\", markersize=10)\n",
    "ekey_pr_line.set_label(\"EdgeKey\")\n",
    "\n",
    "std_pr_line, = plt.plot(x,std_rd_kron_times,marker=\"x\", markersize=10)\n",
    "std_pr_line.set_label(\"Std\")\n",
    "\n",
    "graphchi_line, = plt.plot(x,graphchi_kron_times,marker=\"|\", markersize=10)\n",
    "graphchi_line.set_label(\"GraphChi\")\n",
    "\n",
    "plt.xlabel('Datasets')\n",
    "plt.ylabel('Time (secs)')\n",
    "plt.legend()\n",
    "plt.savefig('/Users/Puneet89/Documents/rpe_doc/fig/pr.pdf', bbox_inches='tight')"
   ]
  },
  {
   "cell_type": "markdown",
   "id": "c86fb919",
   "metadata": {},
   "source": [
    "# Now plotting BFS\n",
    "We show three plots:\n",
    "1. average time vs dataset size\n",
    "3. normalized time per node visited vs number of nodes\n"
   ]
  },
  {
   "cell_type": "code",
   "execution_count": 11,
   "id": "0b588fe3",
   "metadata": {},
   "outputs": [],
   "source": [
    "#BFS ON CIT\n",
    "\n",
    "adj_cit_bfs = pd.read_csv(\"/Users/Puneet89/scratch/margraphita/outputs/benchmarks/adj_rd_cit-Patents_bfs.csv\")\n",
    "ekey_cit_bfs = pd.read_csv(\"/Users/Puneet89/scratch/margraphita/outputs/benchmarks/ekey_rd_cit-Patents_bfs.csv\")\n",
    "std_cit_bfs = pd.read_csv(\"/Users/Puneet89/scratch/margraphita/outputs/benchmarks/std_rd_cit-Patents_bfs.csv\")\n"
   ]
  },
  {
   "cell_type": "code",
   "execution_count": 12,
   "id": "776f9c27",
   "metadata": {},
   "outputs": [
    {
     "name": "stdout",
     "output_type": "stream",
     "text": [
      "/Users/Puneet89/scratch/margraphita/outputs/benchmarks/adj_rd_s10_e8_bfs.csv\n",
      "/Users/Puneet89/scratch/margraphita/outputs/benchmarks/adj_rd_s11_e8_bfs.csv\n",
      "/Users/Puneet89/scratch/margraphita/outputs/benchmarks/adj_rd_s12_e8_bfs.csv\n",
      "/Users/Puneet89/scratch/margraphita/outputs/benchmarks/adj_rd_s13_e8_bfs.csv\n",
      "/Users/Puneet89/scratch/margraphita/outputs/benchmarks/adj_rd_s14_e8_bfs.csv\n",
      "/Users/Puneet89/scratch/margraphita/outputs/benchmarks/adj_rd_s15_e8_bfs.csv\n",
      "/Users/Puneet89/scratch/margraphita/outputs/benchmarks/adj_rd_s16_e8_bfs.csv\n",
      "/Users/Puneet89/scratch/margraphita/outputs/benchmarks/adj_rd_s17_e8_bfs.csv\n",
      "[0.18747015384615384, 0.0638793125, 0.19995749999999998, 0.7335116875, 2.6085720625, 11.143156375, 41.1073075625, 151.9812173125]\n"
     ]
    }
   ],
   "source": [
    "#adj_kron\n",
    "adj_average_bfs_times_arr = []\n",
    "# adj_num_times = {}\n",
    "\n",
    "column_names = [\"#db_name\", \"benchmark\", \"starting_node_id\", \"num_visited\", \"sum_out_deg\", \"time_taken_usecs\"\n",
    "]\n",
    "for scale in range(10,18):\n",
    "    norm_time = []\n",
    "    filename = \"/Users/Puneet89/scratch/margraphita/outputs/benchmarks/adj_rd_s\"+ str(scale) + \"_e8_bfs.csv\"\n",
    "    print (filename)\n",
    "    kron_time = pd.read_csv(filename,names=column_names,skiprows =1)\n",
    "    \n",
    "    #average_time\n",
    "    time_array = kron_time['time_taken_usecs'].to_numpy()\n",
    "    visited_array = kron_time['num_visited'].to_numpy()\n",
    "    avg_time = np.mean(time_array)\n",
    "    \n",
    "#     normalized_time.append(np.mean(np.divide(time_array , visited_array))*1e-6)\n",
    "    adj_average_bfs_times_arr.append(avg_time*1e-6)\n",
    "#     print(visited_array)\n",
    "#     print(normalized_time)\n",
    "#     temp = dict(zip(visited_array,normalized_time))#insert into num_time hash - num_visited: time_taken\n",
    "#     adj_num_time.update(temp)\n",
    "\n",
    "print(adj_average_bfs_times_arr)\n",
    "\n",
    "# for key in sorted(adj_num_time):\n",
    "#     print (key, adj_num_time[key])\n",
    "    \n",
    "    "
   ]
  },
  {
   "cell_type": "code",
   "execution_count": 13,
   "id": "79d86b52",
   "metadata": {},
   "outputs": [
    {
     "name": "stdout",
     "output_type": "stream",
     "text": [
      "/Users/Puneet89/scratch/margraphita/outputs/benchmarks/ekey_rd_s10_e8_bfs.csv\n",
      "/Users/Puneet89/scratch/margraphita/outputs/benchmarks/ekey_rd_s11_e8_bfs.csv\n",
      "/Users/Puneet89/scratch/margraphita/outputs/benchmarks/ekey_rd_s12_e8_bfs.csv\n",
      "/Users/Puneet89/scratch/margraphita/outputs/benchmarks/ekey_rd_s13_e8_bfs.csv\n",
      "/Users/Puneet89/scratch/margraphita/outputs/benchmarks/ekey_rd_s14_e8_bfs.csv\n",
      "/Users/Puneet89/scratch/margraphita/outputs/benchmarks/ekey_rd_s15_e8_bfs.csv\n",
      "/Users/Puneet89/scratch/margraphita/outputs/benchmarks/ekey_rd_s16_e8_bfs.csv\n",
      "/Users/Puneet89/scratch/margraphita/outputs/benchmarks/ekey_rd_s17_e8_bfs.csv\n",
      "[0.012650479166666666, 0.025473625, 0.0522249375, 0.10276208333333332, 0.21964525, 0.44474434782608696, 0.98106209375, 1.719533875]\n"
     ]
    }
   ],
   "source": [
    "#Ekey BFS <-- WRONG NUMBERS CLEARLY\n",
    "ekey_average_bfs_times_arr = []\n",
    "\n",
    "column_names = [\"#db_name\", \"benchmark\", \"starting_node_id\", \"num_visited\", \"sum_out_deg\", \"time_taken_usecs\"\n",
    "]\n",
    "\n",
    "for scale in range(10,18):\n",
    "    norm_time = []\n",
    "    filename = \"/Users/Puneet89/scratch/margraphita/outputs/benchmarks/ekey_rd_s\"+ str(scale) + \"_e8_bfs.csv\"\n",
    "    print(filename)\n",
    "    kron_time = pd.read_csv(filename, names=column_names,skiprows=1)\n",
    "    #avg time\n",
    "    time_array = kron_time['time_taken_usecs'].to_numpy()\n",
    "    visited_array = kron_time['num_visited'].to_numpy()\n",
    "    avg_time = np.mean(time_array)\n",
    "    ekey_average_bfs_times_arr.append(avg_time*1e-6)\n",
    "    \n",
    "print(ekey_average_bfs_times_arr)\n",
    "    "
   ]
  },
  {
   "cell_type": "code",
   "execution_count": 43,
   "id": "897669b8",
   "metadata": {},
   "outputs": [
    {
     "name": "stdout",
     "output_type": "stream",
     "text": [
      "/Users/Puneet89/scratch/margraphita/outputs/benchmarks/std_rd_s10_e8_bfs.csv\n",
      "/Users/Puneet89/scratch/margraphita/outputs/benchmarks/std_rd_s11_e8_bfs.csv\n",
      "/Users/Puneet89/scratch/margraphita/outputs/benchmarks/std_rd_s12_e8_bfs.csv\n",
      "/Users/Puneet89/scratch/margraphita/outputs/benchmarks/std_rd_s13_e8_bfs.csv\n",
      "/Users/Puneet89/scratch/margraphita/outputs/benchmarks/std_rd_s14_e8_bfs.csv\n",
      "/Users/Puneet89/scratch/margraphita/outputs/benchmarks/std_rd_s15_e8_bfs.csv\n",
      "/Users/Puneet89/scratch/margraphita/outputs/benchmarks/std_rd_s16_e8_bfs.csv\n",
      "/Users/Puneet89/scratch/margraphita/outputs/benchmarks/std_rd_s17_e8_bfs.csv\n",
      "[0.0125723125, 0.0246809375, 0.049826875, 1.5819278125, 6.35224225, 28.4221049375, 727.0915391249999, 847.5765835999999]\n"
     ]
    }
   ],
   "source": [
    "#STD BFS \n",
    "std_average_bfs_times_arr = []\n",
    "\n",
    "column_names = [\"#db_name\", \"benchmark\", \"starting_node_id\", \"num_visited\", \"sum_out_deg\", \"time_taken_usecs\"\n",
    "]\n",
    "\n",
    "for scale in range(10,18):\n",
    "    norm_time = []\n",
    "    filename = \"/Users/Puneet89/scratch/margraphita/outputs/benchmarks/std_rd_s\"+ str(scale) + \"_e8_bfs.csv\"\n",
    "    print(filename)\n",
    "    kron_time = pd.read_csv(filename, names=column_names,skiprows=1)\n",
    "    #avg time\n",
    "    time_array = kron_time['time_taken_usecs'].to_numpy()\n",
    "    visited_array = kron_time['num_visited'].to_numpy()\n",
    "    avg_time = np.mean(time_array)\n",
    "    std_average_bfs_times_arr.append(avg_time*1e-6)\n",
    "    \n",
    "print(std_average_bfs_times_arr)\n",
    "    "
   ]
  },
  {
   "cell_type": "code",
   "execution_count": 70,
   "id": "fd010564",
   "metadata": {},
   "outputs": [
    {
     "data": {
      "image/png": "[encoded data removed]",
      "text/plain": [
       "<Figure size 432x288 with 1 Axes>"
      ]
     },
     "metadata": {
      "needs_background": "light"
     },
     "output_type": "display_data"
    }
   ],
   "source": [
    "x = []\n",
    "for i in range(10,18):\n",
    "    x.append(\"s\"+str(i))\n",
    "\n",
    "\n",
    "adj_line, = plt.plot(x, adj_average_bfs_times_arr, marker=\".\", markersize=10)\n",
    "adj_line.set_label('AdjList')\n",
    "\n",
    "ekey_line, = plt.plot(x, ekey_average_bfs_times_arr, marker=\".\", markersize=10)\n",
    "ekey_line.set_label('EdgeKey')\n",
    "\n",
    "std_line, = plt.plot(x, std_average_bfs_times_arr, marker=\".\", markersize=10)\n",
    "std_line.set_label('Std')\n",
    "\n",
    "plt.legend()\n",
    "plt.xlabel('Datasets')\n",
    "plt.ylabel('Time (secs)')\n",
    "plt.savefig('/Users/Puneet89/Documents/rpe_doc/fig/bfs_avg_time.pdf', bbox_inches='tight')"
   ]
  },
  {
   "cell_type": "markdown",
   "id": "52019132",
   "metadata": {},
   "source": [
    "   # Triangle Counting"
   ]
  },
  {
   "cell_type": "code",
   "execution_count": 55,
   "id": "44d8767b",
   "metadata": {},
   "outputs": [
    {
     "name": "stdout",
     "output_type": "stream",
     "text": [
      "/Users/Puneet89/scratch/margraphita/outputs/benchmarks/adj_rd_s10_e8_tc.csv\n",
      "/Users/Puneet89/scratch/margraphita/outputs/benchmarks/adj_rd_s11_e8_tc.csv\n",
      "/Users/Puneet89/scratch/margraphita/outputs/benchmarks/adj_rd_s12_e8_tc.csv\n",
      "/Users/Puneet89/scratch/margraphita/outputs/benchmarks/adj_rd_s13_e8_tc.csv\n",
      "/Users/Puneet89/scratch/margraphita/outputs/benchmarks/adj_rd_s14_e8_tc.csv\n",
      "/Users/Puneet89/scratch/margraphita/outputs/benchmarks/adj_rd_s15_e8_tc.csv\n",
      "/Users/Puneet89/scratch/margraphita/outputs/benchmarks/adj_rd_s16_e8_tc.csv\n",
      "/Users/Puneet89/scratch/margraphita/outputs/benchmarks/adj_rd_s17_e8_tc.csv\n",
      "[0.7007497172131147, 0.3796591212121212, 0.6868941937499999, 0.81740883125, 1.0660911687499999, 18.19753264375, 39.920964624999996, 200.2010102255639]\n",
      "[0, 0, 313608, 808284, 2087315, 5474021, 13902482, 35758607]\n",
      "[0.1966791680327869, 0.5006384181818181, 1.3628045625, 3.6114019624999996, 9.198143974999999, 24.914707481249998, 66.499798675, 178.95641827819549]\n",
      "[61656, 131009, 277423, 591943, 1241081, 2641192, 5539453, 11758974]\n"
     ]
    }
   ],
   "source": [
    "#Adj Kron\n",
    "adj_average_cycle_times_arr = []\n",
    "adj_cycle_counts = []\n",
    "adj_average_trust_times_arr = []\n",
    "adj_trust_counts = []\n",
    "\n",
    "column_list = ['cycle_count', 'cycle_time_usec', 'trust_count', 'trust_time_usecs']\n",
    "for scale in range(10,18):\n",
    "    filename = \"/Users/Puneet89/scratch/margraphita/outputs/benchmarks/adj_rd_s\"+ str(scale) + \"_e8_tc.csv\"\n",
    "    print(filename)\n",
    "    kron_time = pd.read_csv(filename, names=column_list,skiprows=1)\n",
    "    #avg time\n",
    "    trust_times = kron_time['trust_time_usecs'].to_numpy()\n",
    "    cycle_times = kron_time['cycle_time_usec'].to_numpy()\n",
    "    avg_trust_time = np.mean(trust_times)\n",
    "    avg_cycle_time = np.mean(cycle_times)\n",
    "    adj_average_cycle_times_arr.append(avg_trust_time*1e-6)\n",
    "    adj_average_trust_times_arr.append(avg_cycle_time*1e-6)\n",
    "    adj_cycle_counts.append(kron_time['cycle_count'][0])\n",
    "    adj_trust_counts.append(kron_time['trust_count'][0])\n",
    "    \n",
    "\n",
    "print(adj_average_cycle_times_arr)\n",
    "print (adj_cycle_counts)\n",
    "print(adj_average_trust_times_arr)\n",
    "print(adj_trust_counts)"
   ]
  },
  {
   "cell_type": "code",
   "execution_count": 57,
   "id": "5e84c152",
   "metadata": {},
   "outputs": [
    {
     "name": "stdout",
     "output_type": "stream",
     "text": [
      "/Users/Puneet89/scratch/margraphita/outputs/benchmarks/ekey_rd_s10_e8_tc.csv\n",
      "/Users/Puneet89/scratch/margraphita/outputs/benchmarks/ekey_rd_s11_e8_tc.csv\n",
      "/Users/Puneet89/scratch/margraphita/outputs/benchmarks/ekey_rd_s12_e8_tc.csv\n",
      "/Users/Puneet89/scratch/margraphita/outputs/benchmarks/ekey_rd_s13_e8_tc.csv\n",
      "/Users/Puneet89/scratch/margraphita/outputs/benchmarks/ekey_rd_s14_e8_tc.csv\n",
      "/Users/Puneet89/scratch/margraphita/outputs/benchmarks/ekey_rd_s15_e8_tc.csv\n",
      "/Users/Puneet89/scratch/margraphita/outputs/benchmarks/ekey_rd_s16_e8_tc.csv\n",
      "[0.43263044, 1.16828784, 3.0343568, 7.931873639999999, 21.086442679999998, 51.17710408, 143.543042375]\n",
      "[48157, 117440, 313608, 808284, 2087315, 5474021, 13902482]\n",
      "[0.48662535999999995, 1.32202856, 3.4686437999999997, 9.197570039999999, 24.92611752, 61.70089136, 175.07064345833334]\n",
      "[61656, 130979, 277423, 591943, 1241081, 2641192, 5539453]\n"
     ]
    }
   ],
   "source": [
    "#Ekey Kron\n",
    "ekey_average_cycle_times_arr = []\n",
    "ekey_cycle_counts = []\n",
    "ekey_average_trust_times_arr = []\n",
    "ekey_trust_counts = []\n",
    "column_list = ['cycle_count', 'cycle_time_usec', 'trust_count', 'trust_time_usecs']\n",
    "for scale in range(10,17):\n",
    "    filename = \"/Users/Puneet89/scratch/margraphita/outputs/benchmarks/ekey_rd_s\"+ str(scale) + \"_e8_tc.csv\"\n",
    "    print(filename)\n",
    "    kron_time = pd.read_csv(filename, names=column_list,skiprows=1)\n",
    "    #avg time\n",
    "    trust_times = kron_time['trust_time_usecs'].to_numpy()\n",
    "    cycle_times = kron_time['cycle_time_usec'].to_numpy()\n",
    "    avg_trust_time = np.mean(trust_times)\n",
    "    avg_cycle_time = np.mean(cycle_times)\n",
    "    ekey_average_cycle_times_arr.append(avg_trust_time*1e-6)\n",
    "    ekey_average_trust_times_arr.append(avg_cycle_time*1e-6)\n",
    "    ekey_cycle_counts.append(kron_time['cycle_count'][0])\n",
    "    ekey_trust_counts.append(kron_time['trust_count'][0])\n",
    "    \n",
    "\n",
    "print(ekey_average_cycle_times_arr)\n",
    "print (ekey_cycle_counts)\n",
    "print(ekey_average_trust_times_arr)\n",
    "print(ekey_trust_counts)"
   ]
  },
  {
   "cell_type": "code",
   "execution_count": 60,
   "id": "af000169",
   "metadata": {},
   "outputs": [
    {
     "name": "stdout",
     "output_type": "stream",
     "text": [
      "/Users/Puneet89/scratch/margraphita/outputs/benchmarks/std_rd_s10_e8_tc.csv\n",
      "/Users/Puneet89/scratch/margraphita/outputs/benchmarks/std_rd_s11_e8_tc.csv\n",
      "/Users/Puneet89/scratch/margraphita/outputs/benchmarks/std_rd_s12_e8_tc.csv\n",
      "/Users/Puneet89/scratch/margraphita/outputs/benchmarks/std_rd_s13_e8_tc.csv\n",
      "/Users/Puneet89/scratch/margraphita/outputs/benchmarks/std_rd_s14_e8_tc.csv\n",
      "/Users/Puneet89/scratch/margraphita/outputs/benchmarks/std_rd_s15_e8_tc.csv\n",
      "[0.0033231692307692305, 0.634582275, 1.637707875, 4.36703685106383, 11.51863224, 31.32978386363636]\n",
      "[0, 110872, 302142, 807290, 2028871, 5286377]\n",
      "[0.0035096884615384615, 1.7059156083333333, 5.0891789375, 259.5138075106383, 601.60518384, 2955.490309590909]\n",
      "[0, 123977, 268615, 590784, 1212529, 2544572]\n"
     ]
    }
   ],
   "source": [
    "#Std Kron\n",
    "std_average_cycle_times_arr = []\n",
    "std_cycle_counts = []\n",
    "std_average_trust_times_arr = []\n",
    "std_trust_counts = []\n",
    "column_list = ['cycle_count', 'cycle_time_usec', 'trust_count', 'trust_time_usecs']\n",
    "for scale in range(10,16):\n",
    "    filename = \"/Users/Puneet89/scratch/margraphita/outputs/benchmarks/std_rd_s\"+ str(scale) + \"_e8_tc.csv\"\n",
    "    print(filename)\n",
    "    kron_time = pd.read_csv(filename, names=column_list,skiprows=1)\n",
    "    #avg time\n",
    "    trust_times = kron_time['trust_time_usecs'].to_numpy()\n",
    "    cycle_times = kron_time['cycle_time_usec'].to_numpy()\n",
    "    avg_trust_time = np.mean(trust_times)\n",
    "    avg_cycle_time = np.mean(cycle_times)\n",
    "    std_average_cycle_times_arr.append(avg_trust_time*1e-6)\n",
    "    std_average_trust_times_arr.append(avg_cycle_time*1e-6)\n",
    "    std_cycle_counts.append(kron_time['cycle_count'][0])\n",
    "    std_trust_counts.append(kron_time['trust_count'][0])\n",
    "    \n",
    "\n",
    "print(std_average_cycle_times_arr)\n",
    "print (std_cycle_counts)\n",
    "print(std_average_trust_times_arr)\n",
    "print(std_trust_counts)"
   ]
  },
  {
   "cell_type": "code",
   "execution_count": 68,
   "id": "20e37a8b",
   "metadata": {},
   "outputs": [
    {
     "name": "stdout",
     "output_type": "stream",
     "text": [
      "[0.7007497172131147, 0.3796591212121212, 0.6868941937499999, 0.81740883125, 1.0660911687499999, 18.19753264375]\n",
      "[0.43263044, 1.16828784, 3.0343568, 7.931873639999999, 21.086442679999998, 51.17710408]\n",
      "[0.0033231692307692305, 0.634582275, 1.637707875, 4.36703685106383, 11.51863224, 31.32978386363636]\n"
     ]
    },
    {
     "data": {
      "image/png": "[encoded data removed]",
      "text/plain": [
       "<Figure size 432x288 with 1 Axes>"
      ]
     },
     "metadata": {
      "needs_background": "light"
     },
     "output_type": "display_data"
    }
   ],
   "source": [
    "#Cycle Triangle Counting Time\n",
    "\n",
    "x = []\n",
    "for i in range(10,16):\n",
    "    x.append(\"s\"+str(i))\n",
    "\n",
    "print(adj_average_cycle_times_arr[:6])\n",
    "print(ekey_average_cycle_times_arr[:6])\n",
    "print(std_average_cycle_times_arr)\n",
    "\n",
    "adj_line, = plt.plot(x, adj_average_cycle_times_arr[:6], marker=\".\", markersize=10)\n",
    "adj_line.set_label('AdjList')\n",
    "\n",
    "ekey_line, = plt.plot(x, ekey_average_cycle_times_arr[:6], marker=\".\", markersize=10)\n",
    "ekey_line.set_label('EdgeKey')\n",
    "\n",
    "std_line, = plt.plot(x, std_average_cycle_times_arr, marker=\".\", markersize=10)\n",
    "std_line.set_label('Std')\n",
    "\n",
    "plt.legend()\n",
    "plt.xlabel('Datasets')\n",
    "plt.ylabel('Time (secs)')\n",
    "plt.savefig('/Users/Puneet89/Documents/rpe_doc/fig/tc_cycles.pdf', bbox_inches='tight')"
   ]
  },
  {
   "cell_type": "code",
   "execution_count": null,
   "id": "70e40733",
   "metadata": {},
   "outputs": [],
   "source": [
    "#Cycle Triangle Counting Time\n",
    "\n",
    "x = []\n",
    "for i in range(10,16):\n",
    "    x.append(\"s\"+str(i))\n",
    "\n",
    "print(adj_average_cycle_times_arr[:6])\n",
    "print(ekey_average_cycle_times_arr[:6])\n",
    "print(std_average_cycle_times_arr)\n",
    "\n",
    "adj_line, = plt.plot(x, adj_average_cycle_times_arr[:6], marker=\".\", markersize=10)\n",
    "adj_line.set_label('AdjList')\n",
    "\n",
    "ekey_line, = plt.plot(x, ekey_average_cycle_times_arr[:6], marker=\".\", markersize=10)\n",
    "ekey_line.set_label('EdgeKey')\n",
    "\n",
    "std_line, = plt.plot(x, std_average_cycle_times_arr, marker=\".\", markersize=10)\n",
    "std_line.set_label('Std')\n",
    "\n",
    "plt.legend()\n",
    "plt.xlabel('Datasets')\n",
    "plt.ylabel('Time (secs)')\n",
    "plt.savefig('/Users/Puneet89/Documents/rpe_doc/fig/tc_cycles.pdf', bbox_inches='tight')"
   ]
  },
  {
   "cell_type": "code",
   "execution_count": 67,
   "id": "048daa9d",
   "metadata": {},
   "outputs": [
    {
     "name": "stdout",
     "output_type": "stream",
     "text": [
      "[0.1966791680327869, 0.5006384181818181, 1.3628045625, 3.6114019624999996, 9.198143974999999, 24.914707481249998]\n",
      "[0.48662535999999995, 1.32202856, 3.4686437999999997, 9.197570039999999, 24.92611752, 61.70089136]\n",
      "[0.0035096884615384615, 1.7059156083333333, 5.0891789375, 259.5138075106383, 601.60518384, 2955.490309590909]\n"
     ]
    },
    {
     "data": {
      "image/png": "[encoded data removed]",
      "text/plain": [
       "<Figure size 432x288 with 1 Axes>"
      ]
     },
     "metadata": {
      "needs_background": "light"
     },
     "output_type": "display_data"
    }
   ],
   "source": [
    "#Trust Triangle Counting Time\n",
    "\n",
    "x = []\n",
    "for i in range(10,16):\n",
    "    x.append(\"s\"+str(i))\n",
    "\n",
    "print(adj_average_trust_times_arr[:6])\n",
    "print(ekey_average_trust_times_arr[:6])\n",
    "print(std_average_trust_times_arr)\n",
    "\n",
    "adj_line, = plt.plot(x, adj_average_trust_times_arr[:6], marker=\".\", markersize=10)\n",
    "adj_line.set_label('AdjList')\n",
    "\n",
    "ekey_line, = plt.plot(x, ekey_average_trust_times_arr[:6], marker=\".\", markersize=10)\n",
    "ekey_line.set_label('EdgeKey')\n",
    "\n",
    "std_line, = plt.plot(x, std_average_trust_times_arr, marker=\".\", markersize=10)\n",
    "std_line.set_label('Std')\n",
    "\n",
    "plt.legend()\n",
    "plt.xlabel('Datasets')\n",
    "plt.ylabel('Time (secs)')\n",
    "plt.savefig('/Users/Puneet89/Documents/rpe_doc/fig/tc_trust.pdf', bbox_inches='tight')"
   ]
  },
  {
   "cell_type": "code",
   "execution_count": null,
   "id": "30e94269",
   "metadata": {},
   "outputs": [],
   "source": []
  }
 ],
 "metadata": {
  "kernelspec": {
   "display_name": "Python 3 (ipykernel)",
   "language": "python",
   "name": "python3"
  },
  "language_info": {
   "codemirror_mode": {
    "name": "ipython",
    "version": 3
   },
   "file_extension": ".py",
   "mimetype": "text/x-python",
   "name": "python",
   "nbconvert_exporter": "python",
   "pygments_lexer": "ipython3",
   "version": "3.9.7"
  }
 },
 "nbformat": 4,
 "nbformat_minor": 5
}
